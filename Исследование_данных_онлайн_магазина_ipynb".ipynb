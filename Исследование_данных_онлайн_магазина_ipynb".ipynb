{
  "nbformat": 4,
  "nbformat_minor": 0,
  "metadata": {
    "colab": {
      "name": "Исследование данных онлайн-магазина.ipynb\"",
      "provenance": [],
      "collapsed_sections": [
        "e4C3oKtpMq88"
      ],
      "authorship_tag": "ABX9TyPQSiDtnPbJHlCl6BFZQ2hc",
      "include_colab_link": true
    },
    "kernelspec": {
      "name": "python3",
      "display_name": "Python 3"
    },
    "language_info": {
      "name": "python"
    }
  },
  "cells": [
    {
      "cell_type": "markdown",
      "metadata": {
        "id": "view-in-github",
        "colab_type": "text"
      },
      "source": [
        "<a href=\"https://colab.research.google.com/github/am5521/am5521/blob/main/%D0%98%D1%81%D1%81%D0%BB%D0%B5%D0%B4%D0%BE%D0%B2%D0%B0%D0%BD%D0%B8%D0%B5_%D0%B4%D0%B0%D0%BD%D0%BD%D1%8B%D1%85_%D0%BE%D0%BD%D0%BB%D0%B0%D0%B9%D0%BD_%D0%BC%D0%B0%D0%B3%D0%B0%D0%B7%D0%B8%D0%BD%D0%B0_ipynb%22.ipynb\" target=\"_parent\"><img src=\"https://colab.research.google.com/assets/colab-badge.svg\" alt=\"Open In Colab\"/></a>"
      ]
    },
    {
      "cell_type": "code",
      "metadata": {
        "id": "GJqTfq_eGh4y"
      },
      "source": [
        "# импортируем нужные библиотеки\n",
        "import pandas as pd\n",
        "from matplotlib import pyplot as plt\n",
        "import seaborn as sns\n",
        "\n",
        "\n"
      ],
      "execution_count": null,
      "outputs": []
    },
    {
      "cell_type": "code",
      "metadata": {
        "id": "W0SdSYAoHhtX"
      },
      "source": [
        "# читаем данные из csv\n",
        "url = 'https://github.com/am5521/diplom/blob/main/ecommerce-data.zip?raw=true'\n",
        "df = pd.read_csv(url, encoding='ISO-8859-1', compression='zip')"
      ],
      "execution_count": null,
      "outputs": []
    },
    {
      "cell_type": "markdown",
      "metadata": {
        "id": "-ec8Kc31UTOq"
      },
      "source": [
        "##Основные сведения о датафрейме"
      ]
    },
    {
      "cell_type": "code",
      "metadata": {
        "colab": {
          "base_uri": "https://localhost:8080/",
          "height": 203
        },
        "id": "a2wlYraZHxHV",
        "outputId": "72cd3a04-95c7-450a-e547-169ee6d295c0"
      },
      "source": [
        "df.head()"
      ],
      "execution_count": null,
      "outputs": [
        {
          "output_type": "execute_result",
          "data": {
            "text/html": [
              "<div>\n",
              "<style scoped>\n",
              "    .dataframe tbody tr th:only-of-type {\n",
              "        vertical-align: middle;\n",
              "    }\n",
              "\n",
              "    .dataframe tbody tr th {\n",
              "        vertical-align: top;\n",
              "    }\n",
              "\n",
              "    .dataframe thead th {\n",
              "        text-align: right;\n",
              "    }\n",
              "</style>\n",
              "<table border=\"1\" class=\"dataframe\">\n",
              "  <thead>\n",
              "    <tr style=\"text-align: right;\">\n",
              "      <th></th>\n",
              "      <th>InvoiceNo</th>\n",
              "      <th>StockCode</th>\n",
              "      <th>Description</th>\n",
              "      <th>Quantity</th>\n",
              "      <th>InvoiceDate</th>\n",
              "      <th>UnitPrice</th>\n",
              "      <th>CustomerID</th>\n",
              "      <th>Country</th>\n",
              "    </tr>\n",
              "  </thead>\n",
              "  <tbody>\n",
              "    <tr>\n",
              "      <th>0</th>\n",
              "      <td>536365</td>\n",
              "      <td>85123A</td>\n",
              "      <td>WHITE HANGING HEART T-LIGHT HOLDER</td>\n",
              "      <td>6</td>\n",
              "      <td>12/1/2010 8:26</td>\n",
              "      <td>2.55</td>\n",
              "      <td>17850.0</td>\n",
              "      <td>United Kingdom</td>\n",
              "    </tr>\n",
              "    <tr>\n",
              "      <th>1</th>\n",
              "      <td>536365</td>\n",
              "      <td>71053</td>\n",
              "      <td>WHITE METAL LANTERN</td>\n",
              "      <td>6</td>\n",
              "      <td>12/1/2010 8:26</td>\n",
              "      <td>3.39</td>\n",
              "      <td>17850.0</td>\n",
              "      <td>United Kingdom</td>\n",
              "    </tr>\n",
              "    <tr>\n",
              "      <th>2</th>\n",
              "      <td>536365</td>\n",
              "      <td>84406B</td>\n",
              "      <td>CREAM CUPID HEARTS COAT HANGER</td>\n",
              "      <td>8</td>\n",
              "      <td>12/1/2010 8:26</td>\n",
              "      <td>2.75</td>\n",
              "      <td>17850.0</td>\n",
              "      <td>United Kingdom</td>\n",
              "    </tr>\n",
              "    <tr>\n",
              "      <th>3</th>\n",
              "      <td>536365</td>\n",
              "      <td>84029G</td>\n",
              "      <td>KNITTED UNION FLAG HOT WATER BOTTLE</td>\n",
              "      <td>6</td>\n",
              "      <td>12/1/2010 8:26</td>\n",
              "      <td>3.39</td>\n",
              "      <td>17850.0</td>\n",
              "      <td>United Kingdom</td>\n",
              "    </tr>\n",
              "    <tr>\n",
              "      <th>4</th>\n",
              "      <td>536365</td>\n",
              "      <td>84029E</td>\n",
              "      <td>RED WOOLLY HOTTIE WHITE HEART.</td>\n",
              "      <td>6</td>\n",
              "      <td>12/1/2010 8:26</td>\n",
              "      <td>3.39</td>\n",
              "      <td>17850.0</td>\n",
              "      <td>United Kingdom</td>\n",
              "    </tr>\n",
              "  </tbody>\n",
              "</table>\n",
              "</div>"
            ],
            "text/plain": [
              "  InvoiceNo StockCode  ... CustomerID         Country\n",
              "0    536365    85123A  ...    17850.0  United Kingdom\n",
              "1    536365     71053  ...    17850.0  United Kingdom\n",
              "2    536365    84406B  ...    17850.0  United Kingdom\n",
              "3    536365    84029G  ...    17850.0  United Kingdom\n",
              "4    536365    84029E  ...    17850.0  United Kingdom\n",
              "\n",
              "[5 rows x 8 columns]"
            ]
          },
          "metadata": {
            "tags": []
          },
          "execution_count": 3
        }
      ]
    },
    {
      "cell_type": "code",
      "metadata": {
        "colab": {
          "base_uri": "https://localhost:8080/",
          "height": 203
        },
        "id": "DN0htfkBH2Ew",
        "outputId": "bf717948-6e23-4e09-d17b-fe0630fd2266"
      },
      "source": [
        "df.tail()"
      ],
      "execution_count": null,
      "outputs": [
        {
          "output_type": "execute_result",
          "data": {
            "text/html": [
              "<div>\n",
              "<style scoped>\n",
              "    .dataframe tbody tr th:only-of-type {\n",
              "        vertical-align: middle;\n",
              "    }\n",
              "\n",
              "    .dataframe tbody tr th {\n",
              "        vertical-align: top;\n",
              "    }\n",
              "\n",
              "    .dataframe thead th {\n",
              "        text-align: right;\n",
              "    }\n",
              "</style>\n",
              "<table border=\"1\" class=\"dataframe\">\n",
              "  <thead>\n",
              "    <tr style=\"text-align: right;\">\n",
              "      <th></th>\n",
              "      <th>InvoiceNo</th>\n",
              "      <th>StockCode</th>\n",
              "      <th>Description</th>\n",
              "      <th>Quantity</th>\n",
              "      <th>InvoiceDate</th>\n",
              "      <th>UnitPrice</th>\n",
              "      <th>CustomerID</th>\n",
              "      <th>Country</th>\n",
              "    </tr>\n",
              "  </thead>\n",
              "  <tbody>\n",
              "    <tr>\n",
              "      <th>541904</th>\n",
              "      <td>581587</td>\n",
              "      <td>22613</td>\n",
              "      <td>PACK OF 20 SPACEBOY NAPKINS</td>\n",
              "      <td>12</td>\n",
              "      <td>12/9/2011 12:50</td>\n",
              "      <td>0.85</td>\n",
              "      <td>12680.0</td>\n",
              "      <td>France</td>\n",
              "    </tr>\n",
              "    <tr>\n",
              "      <th>541905</th>\n",
              "      <td>581587</td>\n",
              "      <td>22899</td>\n",
              "      <td>CHILDREN'S APRON DOLLY GIRL</td>\n",
              "      <td>6</td>\n",
              "      <td>12/9/2011 12:50</td>\n",
              "      <td>2.10</td>\n",
              "      <td>12680.0</td>\n",
              "      <td>France</td>\n",
              "    </tr>\n",
              "    <tr>\n",
              "      <th>541906</th>\n",
              "      <td>581587</td>\n",
              "      <td>23254</td>\n",
              "      <td>CHILDRENS CUTLERY DOLLY GIRL</td>\n",
              "      <td>4</td>\n",
              "      <td>12/9/2011 12:50</td>\n",
              "      <td>4.15</td>\n",
              "      <td>12680.0</td>\n",
              "      <td>France</td>\n",
              "    </tr>\n",
              "    <tr>\n",
              "      <th>541907</th>\n",
              "      <td>581587</td>\n",
              "      <td>23255</td>\n",
              "      <td>CHILDRENS CUTLERY CIRCUS PARADE</td>\n",
              "      <td>4</td>\n",
              "      <td>12/9/2011 12:50</td>\n",
              "      <td>4.15</td>\n",
              "      <td>12680.0</td>\n",
              "      <td>France</td>\n",
              "    </tr>\n",
              "    <tr>\n",
              "      <th>541908</th>\n",
              "      <td>581587</td>\n",
              "      <td>22138</td>\n",
              "      <td>BAKING SET 9 PIECE RETROSPOT</td>\n",
              "      <td>3</td>\n",
              "      <td>12/9/2011 12:50</td>\n",
              "      <td>4.95</td>\n",
              "      <td>12680.0</td>\n",
              "      <td>France</td>\n",
              "    </tr>\n",
              "  </tbody>\n",
              "</table>\n",
              "</div>"
            ],
            "text/plain": [
              "       InvoiceNo StockCode  ... CustomerID  Country\n",
              "541904    581587     22613  ...    12680.0   France\n",
              "541905    581587     22899  ...    12680.0   France\n",
              "541906    581587     23254  ...    12680.0   France\n",
              "541907    581587     23255  ...    12680.0   France\n",
              "541908    581587     22138  ...    12680.0   France\n",
              "\n",
              "[5 rows x 8 columns]"
            ]
          },
          "metadata": {
            "tags": []
          },
          "execution_count": 4
        }
      ]
    },
    {
      "cell_type": "code",
      "metadata": {
        "colab": {
          "base_uri": "https://localhost:8080/",
          "height": 295
        },
        "id": "ka-7cvFuH7PA",
        "outputId": "bd3a7193-7519-4208-93cf-2b365f3605b8"
      },
      "source": [
        "df.describe() "
      ],
      "execution_count": null,
      "outputs": [
        {
          "output_type": "execute_result",
          "data": {
            "text/html": [
              "<div>\n",
              "<style scoped>\n",
              "    .dataframe tbody tr th:only-of-type {\n",
              "        vertical-align: middle;\n",
              "    }\n",
              "\n",
              "    .dataframe tbody tr th {\n",
              "        vertical-align: top;\n",
              "    }\n",
              "\n",
              "    .dataframe thead th {\n",
              "        text-align: right;\n",
              "    }\n",
              "</style>\n",
              "<table border=\"1\" class=\"dataframe\">\n",
              "  <thead>\n",
              "    <tr style=\"text-align: right;\">\n",
              "      <th></th>\n",
              "      <th>Quantity</th>\n",
              "      <th>UnitPrice</th>\n",
              "      <th>CustomerID</th>\n",
              "    </tr>\n",
              "  </thead>\n",
              "  <tbody>\n",
              "    <tr>\n",
              "      <th>count</th>\n",
              "      <td>541909.000000</td>\n",
              "      <td>541909.000000</td>\n",
              "      <td>406829.000000</td>\n",
              "    </tr>\n",
              "    <tr>\n",
              "      <th>mean</th>\n",
              "      <td>9.552250</td>\n",
              "      <td>4.611114</td>\n",
              "      <td>15287.690570</td>\n",
              "    </tr>\n",
              "    <tr>\n",
              "      <th>std</th>\n",
              "      <td>218.081158</td>\n",
              "      <td>96.759853</td>\n",
              "      <td>1713.600303</td>\n",
              "    </tr>\n",
              "    <tr>\n",
              "      <th>min</th>\n",
              "      <td>-80995.000000</td>\n",
              "      <td>-11062.060000</td>\n",
              "      <td>12346.000000</td>\n",
              "    </tr>\n",
              "    <tr>\n",
              "      <th>25%</th>\n",
              "      <td>1.000000</td>\n",
              "      <td>1.250000</td>\n",
              "      <td>13953.000000</td>\n",
              "    </tr>\n",
              "    <tr>\n",
              "      <th>50%</th>\n",
              "      <td>3.000000</td>\n",
              "      <td>2.080000</td>\n",
              "      <td>15152.000000</td>\n",
              "    </tr>\n",
              "    <tr>\n",
              "      <th>75%</th>\n",
              "      <td>10.000000</td>\n",
              "      <td>4.130000</td>\n",
              "      <td>16791.000000</td>\n",
              "    </tr>\n",
              "    <tr>\n",
              "      <th>max</th>\n",
              "      <td>80995.000000</td>\n",
              "      <td>38970.000000</td>\n",
              "      <td>18287.000000</td>\n",
              "    </tr>\n",
              "  </tbody>\n",
              "</table>\n",
              "</div>"
            ],
            "text/plain": [
              "            Quantity      UnitPrice     CustomerID\n",
              "count  541909.000000  541909.000000  406829.000000\n",
              "mean        9.552250       4.611114   15287.690570\n",
              "std       218.081158      96.759853    1713.600303\n",
              "min    -80995.000000  -11062.060000   12346.000000\n",
              "25%         1.000000       1.250000   13953.000000\n",
              "50%         3.000000       2.080000   15152.000000\n",
              "75%        10.000000       4.130000   16791.000000\n",
              "max     80995.000000   38970.000000   18287.000000"
            ]
          },
          "metadata": {
            "tags": []
          },
          "execution_count": 5
        }
      ]
    },
    {
      "cell_type": "code",
      "metadata": {
        "colab": {
          "base_uri": "https://localhost:8080/"
        },
        "id": "xzgisadfIC6v",
        "outputId": "6e1f4e2e-b7a7-4f90-9c1f-e4e33ee712a9"
      },
      "source": [
        "df.info()"
      ],
      "execution_count": null,
      "outputs": [
        {
          "output_type": "stream",
          "text": [
            "<class 'pandas.core.frame.DataFrame'>\n",
            "RangeIndex: 541909 entries, 0 to 541908\n",
            "Data columns (total 8 columns):\n",
            " #   Column       Non-Null Count   Dtype  \n",
            "---  ------       --------------   -----  \n",
            " 0   InvoiceNo    541909 non-null  object \n",
            " 1   StockCode    541909 non-null  object \n",
            " 2   Description  540455 non-null  object \n",
            " 3   Quantity     541909 non-null  int64  \n",
            " 4   InvoiceDate  541909 non-null  object \n",
            " 5   UnitPrice    541909 non-null  float64\n",
            " 6   CustomerID   406829 non-null  float64\n",
            " 7   Country      541909 non-null  object \n",
            "dtypes: float64(2), int64(1), object(5)\n",
            "memory usage: 33.1+ MB\n"
          ],
          "name": "stdout"
        }
      ]
    },
    {
      "cell_type": "markdown",
      "metadata": {
        "id": "x9v_--mQIaam"
      },
      "source": [
        "#Исследование данных "
      ]
    },
    {
      "cell_type": "code",
      "metadata": {
        "colab": {
          "base_uri": "https://localhost:8080/"
        },
        "id": "AhTEuPq_Igir",
        "outputId": "144165f2-c26c-4308-909a-4f7d15e51f60"
      },
      "source": [
        "# посчитаем, сколько пропусков в каждой строке\n",
        "df.isnull().sum()"
      ],
      "execution_count": null,
      "outputs": [
        {
          "output_type": "execute_result",
          "data": {
            "text/plain": [
              "InvoiceNo           0\n",
              "StockCode           0\n",
              "Description      1454\n",
              "Quantity            0\n",
              "InvoiceDate         0\n",
              "UnitPrice           0\n",
              "CustomerID     135080\n",
              "Country             0\n",
              "dtype: int64"
            ]
          },
          "metadata": {
            "tags": []
          },
          "execution_count": 7
        }
      ]
    },
    {
      "cell_type": "code",
      "metadata": {
        "colab": {
          "base_uri": "https://localhost:8080/",
          "height": 357
        },
        "id": "KSlWiLnszE2m",
        "outputId": "e91e6701-98d8-40b7-e3f1-34bfe083cda1"
      },
      "source": [
        "df[df.isin([\"NA\",\"NaN\",\"Na\",\"na\",\"N/A\",\n",
        "                \"n/a\",\"missing\",\"MISSING\",\n",
        "                \"no data\",\"nodata\",\"\",\"?\",\n",
        "                \"??\",\"???\",\"????\",\"?????\"]).any(axis=1)].head(10)"
      ],
      "execution_count": null,
      "outputs": [
        {
          "output_type": "execute_result",
          "data": {
            "text/html": [
              "<div>\n",
              "<style scoped>\n",
              "    .dataframe tbody tr th:only-of-type {\n",
              "        vertical-align: middle;\n",
              "    }\n",
              "\n",
              "    .dataframe tbody tr th {\n",
              "        vertical-align: top;\n",
              "    }\n",
              "\n",
              "    .dataframe thead th {\n",
              "        text-align: right;\n",
              "    }\n",
              "</style>\n",
              "<table border=\"1\" class=\"dataframe\">\n",
              "  <thead>\n",
              "    <tr style=\"text-align: right;\">\n",
              "      <th></th>\n",
              "      <th>InvoiceNo</th>\n",
              "      <th>StockCode</th>\n",
              "      <th>Description</th>\n",
              "      <th>Quantity</th>\n",
              "      <th>InvoiceDate</th>\n",
              "      <th>UnitPrice</th>\n",
              "      <th>CustomerID</th>\n",
              "      <th>Country</th>\n",
              "    </tr>\n",
              "  </thead>\n",
              "  <tbody>\n",
              "    <tr>\n",
              "      <th>7313</th>\n",
              "      <td>537032</td>\n",
              "      <td>21275</td>\n",
              "      <td>?</td>\n",
              "      <td>-30</td>\n",
              "      <td>12/3/2010 16:50</td>\n",
              "      <td>0.0</td>\n",
              "      <td>NaN</td>\n",
              "      <td>United Kingdom</td>\n",
              "    </tr>\n",
              "    <tr>\n",
              "      <th>21518</th>\n",
              "      <td>538090</td>\n",
              "      <td>20956</td>\n",
              "      <td>?</td>\n",
              "      <td>-723</td>\n",
              "      <td>12/9/2010 14:48</td>\n",
              "      <td>0.0</td>\n",
              "      <td>NaN</td>\n",
              "      <td>United Kingdom</td>\n",
              "    </tr>\n",
              "    <tr>\n",
              "      <th>38261</th>\n",
              "      <td>539494</td>\n",
              "      <td>21479</td>\n",
              "      <td>?</td>\n",
              "      <td>752</td>\n",
              "      <td>12/20/2010 10:36</td>\n",
              "      <td>0.0</td>\n",
              "      <td>NaN</td>\n",
              "      <td>United Kingdom</td>\n",
              "    </tr>\n",
              "    <tr>\n",
              "      <th>43662</th>\n",
              "      <td>540100</td>\n",
              "      <td>22837</td>\n",
              "      <td>?</td>\n",
              "      <td>-106</td>\n",
              "      <td>1/4/2011 16:53</td>\n",
              "      <td>0.0</td>\n",
              "      <td>NaN</td>\n",
              "      <td>United Kingdom</td>\n",
              "    </tr>\n",
              "    <tr>\n",
              "      <th>50806</th>\n",
              "      <td>540558</td>\n",
              "      <td>21258</td>\n",
              "      <td>?</td>\n",
              "      <td>-29</td>\n",
              "      <td>1/10/2011 10:04</td>\n",
              "      <td>0.0</td>\n",
              "      <td>NaN</td>\n",
              "      <td>United Kingdom</td>\n",
              "    </tr>\n",
              "    <tr>\n",
              "      <th>51673</th>\n",
              "      <td>540651</td>\n",
              "      <td>82599</td>\n",
              "      <td>?</td>\n",
              "      <td>-290</td>\n",
              "      <td>1/10/2011 15:00</td>\n",
              "      <td>0.0</td>\n",
              "      <td>NaN</td>\n",
              "      <td>United Kingdom</td>\n",
              "    </tr>\n",
              "    <tr>\n",
              "      <th>68920</th>\n",
              "      <td>541882</td>\n",
              "      <td>48185</td>\n",
              "      <td>?</td>\n",
              "      <td>-57</td>\n",
              "      <td>1/24/2011 10:54</td>\n",
              "      <td>0.0</td>\n",
              "      <td>NaN</td>\n",
              "      <td>United Kingdom</td>\n",
              "    </tr>\n",
              "    <tr>\n",
              "      <th>78235</th>\n",
              "      <td>542861</td>\n",
              "      <td>47591B</td>\n",
              "      <td>?</td>\n",
              "      <td>-207</td>\n",
              "      <td>2/1/2011 11:47</td>\n",
              "      <td>0.0</td>\n",
              "      <td>NaN</td>\n",
              "      <td>United Kingdom</td>\n",
              "    </tr>\n",
              "    <tr>\n",
              "      <th>94765</th>\n",
              "      <td>544410</td>\n",
              "      <td>84997C</td>\n",
              "      <td>?</td>\n",
              "      <td>-741</td>\n",
              "      <td>2/18/2011 13:54</td>\n",
              "      <td>0.0</td>\n",
              "      <td>NaN</td>\n",
              "      <td>United Kingdom</td>\n",
              "    </tr>\n",
              "    <tr>\n",
              "      <th>97643</th>\n",
              "      <td>544649</td>\n",
              "      <td>21621</td>\n",
              "      <td>?</td>\n",
              "      <td>-400</td>\n",
              "      <td>2/22/2011 12:37</td>\n",
              "      <td>0.0</td>\n",
              "      <td>NaN</td>\n",
              "      <td>United Kingdom</td>\n",
              "    </tr>\n",
              "  </tbody>\n",
              "</table>\n",
              "</div>"
            ],
            "text/plain": [
              "      InvoiceNo StockCode Description  ...  UnitPrice CustomerID         Country\n",
              "7313     537032     21275           ?  ...        0.0        NaN  United Kingdom\n",
              "21518    538090     20956           ?  ...        0.0        NaN  United Kingdom\n",
              "38261    539494     21479           ?  ...        0.0        NaN  United Kingdom\n",
              "43662    540100     22837           ?  ...        0.0        NaN  United Kingdom\n",
              "50806    540558     21258           ?  ...        0.0        NaN  United Kingdom\n",
              "51673    540651     82599           ?  ...        0.0        NaN  United Kingdom\n",
              "68920    541882     48185           ?  ...        0.0        NaN  United Kingdom\n",
              "78235    542861    47591B           ?  ...        0.0        NaN  United Kingdom\n",
              "94765    544410    84997C           ?  ...        0.0        NaN  United Kingdom\n",
              "97643    544649     21621           ?  ...        0.0        NaN  United Kingdom\n",
              "\n",
              "[10 rows x 8 columns]"
            ]
          },
          "metadata": {
            "tags": []
          },
          "execution_count": 8
        }
      ]
    },
    {
      "cell_type": "code",
      "metadata": {
        "colab": {
          "base_uri": "https://localhost:8080/",
          "height": 357
        },
        "id": "P-MQJ58GVBWW",
        "outputId": "49088ece-4819-4d0d-8ec2-c58eee3faf67"
      },
      "source": [
        "df[df.isin([\"NA\",\"NaN\",\"Na\",\"na\",\"N/A\",\n",
        "                \"n/a\",\"missing\",\"MISSING\",\n",
        "                \"no data\",\"nodata\",\"\",\"?\",\n",
        "                \"??\",\"???\",\"????\",\"?????\"]).any(axis=1)].tail(10)"
      ],
      "execution_count": null,
      "outputs": [
        {
          "output_type": "execute_result",
          "data": {
            "text/html": [
              "<div>\n",
              "<style scoped>\n",
              "    .dataframe tbody tr th:only-of-type {\n",
              "        vertical-align: middle;\n",
              "    }\n",
              "\n",
              "    .dataframe tbody tr th {\n",
              "        vertical-align: top;\n",
              "    }\n",
              "\n",
              "    .dataframe thead th {\n",
              "        text-align: right;\n",
              "    }\n",
              "</style>\n",
              "<table border=\"1\" class=\"dataframe\">\n",
              "  <thead>\n",
              "    <tr style=\"text-align: right;\">\n",
              "      <th></th>\n",
              "      <th>InvoiceNo</th>\n",
              "      <th>StockCode</th>\n",
              "      <th>Description</th>\n",
              "      <th>Quantity</th>\n",
              "      <th>InvoiceDate</th>\n",
              "      <th>UnitPrice</th>\n",
              "      <th>CustomerID</th>\n",
              "      <th>Country</th>\n",
              "    </tr>\n",
              "  </thead>\n",
              "  <tbody>\n",
              "    <tr>\n",
              "      <th>395168</th>\n",
              "      <td>571024</td>\n",
              "      <td>22812</td>\n",
              "      <td>?</td>\n",
              "      <td>-270</td>\n",
              "      <td>10/13/2011 12:18</td>\n",
              "      <td>0.0</td>\n",
              "      <td>NaN</td>\n",
              "      <td>United Kingdom</td>\n",
              "    </tr>\n",
              "    <tr>\n",
              "      <th>397026</th>\n",
              "      <td>571116</td>\n",
              "      <td>23131</td>\n",
              "      <td>?</td>\n",
              "      <td>-49</td>\n",
              "      <td>10/13/2011 17:46</td>\n",
              "      <td>0.0</td>\n",
              "      <td>NaN</td>\n",
              "      <td>United Kingdom</td>\n",
              "    </tr>\n",
              "    <tr>\n",
              "      <th>397225</th>\n",
              "      <td>571126</td>\n",
              "      <td>72802A</td>\n",
              "      <td>?</td>\n",
              "      <td>-50</td>\n",
              "      <td>10/14/2011 9:53</td>\n",
              "      <td>0.0</td>\n",
              "      <td>NaN</td>\n",
              "      <td>United Kingdom</td>\n",
              "    </tr>\n",
              "    <tr>\n",
              "      <th>418129</th>\n",
              "      <td>572701</td>\n",
              "      <td>85078</td>\n",
              "      <td>missing</td>\n",
              "      <td>-840</td>\n",
              "      <td>10/25/2011 14:31</td>\n",
              "      <td>0.0</td>\n",
              "      <td>NaN</td>\n",
              "      <td>United Kingdom</td>\n",
              "    </tr>\n",
              "    <tr>\n",
              "      <th>418130</th>\n",
              "      <td>572702</td>\n",
              "      <td>37479P</td>\n",
              "      <td>??</td>\n",
              "      <td>-184</td>\n",
              "      <td>10/25/2011 14:33</td>\n",
              "      <td>0.0</td>\n",
              "      <td>NaN</td>\n",
              "      <td>United Kingdom</td>\n",
              "    </tr>\n",
              "    <tr>\n",
              "      <th>418840</th>\n",
              "      <td>572749</td>\n",
              "      <td>22572</td>\n",
              "      <td>??</td>\n",
              "      <td>-335</td>\n",
              "      <td>10/25/2011 16:52</td>\n",
              "      <td>0.0</td>\n",
              "      <td>NaN</td>\n",
              "      <td>United Kingdom</td>\n",
              "    </tr>\n",
              "    <tr>\n",
              "      <th>421093</th>\n",
              "      <td>572920</td>\n",
              "      <td>72803A</td>\n",
              "      <td>?</td>\n",
              "      <td>117</td>\n",
              "      <td>10/26/2011 16:52</td>\n",
              "      <td>0.0</td>\n",
              "      <td>NaN</td>\n",
              "      <td>United Kingdom</td>\n",
              "    </tr>\n",
              "    <tr>\n",
              "      <th>455407</th>\n",
              "      <td>575615</td>\n",
              "      <td>82582</td>\n",
              "      <td>??</td>\n",
              "      <td>-130</td>\n",
              "      <td>11/10/2011 12:51</td>\n",
              "      <td>0.0</td>\n",
              "      <td>NaN</td>\n",
              "      <td>United Kingdom</td>\n",
              "    </tr>\n",
              "    <tr>\n",
              "      <th>524370</th>\n",
              "      <td>580547</td>\n",
              "      <td>21201</td>\n",
              "      <td>???</td>\n",
              "      <td>-390</td>\n",
              "      <td>12/5/2011 9:29</td>\n",
              "      <td>0.0</td>\n",
              "      <td>NaN</td>\n",
              "      <td>United Kingdom</td>\n",
              "    </tr>\n",
              "    <tr>\n",
              "      <th>536908</th>\n",
              "      <td>581226</td>\n",
              "      <td>23090</td>\n",
              "      <td>missing</td>\n",
              "      <td>-338</td>\n",
              "      <td>12/8/2011 9:56</td>\n",
              "      <td>0.0</td>\n",
              "      <td>NaN</td>\n",
              "      <td>United Kingdom</td>\n",
              "    </tr>\n",
              "  </tbody>\n",
              "</table>\n",
              "</div>"
            ],
            "text/plain": [
              "       InvoiceNo StockCode Description  ...  UnitPrice CustomerID         Country\n",
              "395168    571024     22812           ?  ...        0.0        NaN  United Kingdom\n",
              "397026    571116     23131           ?  ...        0.0        NaN  United Kingdom\n",
              "397225    571126    72802A           ?  ...        0.0        NaN  United Kingdom\n",
              "418129    572701     85078     missing  ...        0.0        NaN  United Kingdom\n",
              "418130    572702    37479P          ??  ...        0.0        NaN  United Kingdom\n",
              "418840    572749     22572          ??  ...        0.0        NaN  United Kingdom\n",
              "421093    572920    72803A           ?  ...        0.0        NaN  United Kingdom\n",
              "455407    575615     82582          ??  ...        0.0        NaN  United Kingdom\n",
              "524370    580547     21201         ???  ...        0.0        NaN  United Kingdom\n",
              "536908    581226     23090     missing  ...        0.0        NaN  United Kingdom\n",
              "\n",
              "[10 rows x 8 columns]"
            ]
          },
          "metadata": {
            "tags": []
          },
          "execution_count": 9
        }
      ]
    },
    {
      "cell_type": "markdown",
      "metadata": {
        "id": "BO8X0v1NyNWM"
      },
      "source": [
        " Мы видим, что, когда отсутствуют значения для Description: UnitPrice равно 0, CustomerID отсутствует, и встречаются отрицательные значения для Quantity.\n",
        "\n",
        "Продолжим  исследование с нулевой цены за единицу:"
      ]
    },
    {
      "cell_type": "markdown",
      "metadata": {
        "id": "V5sGM1xfRvwH"
      },
      "source": [
        "##Очистка данных"
      ]
    },
    {
      "cell_type": "markdown",
      "metadata": {
        "id": "qbz_nbKm0Hhm"
      },
      "source": [
        "###Нулевая цена"
      ]
    },
    {
      "cell_type": "code",
      "metadata": {
        "colab": {
          "base_uri": "https://localhost:8080/"
        },
        "id": "0UplHctHzwBf",
        "outputId": "57a111c8-538c-43cc-a4d5-7bdbed802005"
      },
      "source": [
        "df[\"UnitPrice\"].describe()"
      ],
      "execution_count": null,
      "outputs": [
        {
          "output_type": "execute_result",
          "data": {
            "text/plain": [
              "count    541909.000000\n",
              "mean          4.611114\n",
              "std          96.759853\n",
              "min      -11062.060000\n",
              "25%           1.250000\n",
              "50%           2.080000\n",
              "75%           4.130000\n",
              "max       38970.000000\n",
              "Name: UnitPrice, dtype: float64"
            ]
          },
          "metadata": {
            "tags": []
          },
          "execution_count": 10
        }
      ]
    },
    {
      "cell_type": "code",
      "metadata": {
        "colab": {
          "base_uri": "https://localhost:8080/"
        },
        "id": "CNeaIuUIPCcc",
        "outputId": "f039dd57-78bf-490a-d4d8-92bdcfd9f40e"
      },
      "source": [
        "#посчитаем сколько строк содержит нулевое значение цены\n",
        "df[df[\"UnitPrice\"] == 0].shape"
      ],
      "execution_count": null,
      "outputs": [
        {
          "output_type": "execute_result",
          "data": {
            "text/plain": [
              "(2515, 8)"
            ]
          },
          "metadata": {
            "tags": []
          },
          "execution_count": 11
        }
      ]
    },
    {
      "cell_type": "markdown",
      "metadata": {
        "id": "emxI0moSbTiA"
      },
      "source": [
        "Выручка зависит от количества продаж и цены за единицу товара, мы можем исключить записи, где UnitPrice равно 0.\n",
        "\n"
      ]
    },
    {
      "cell_type": "code",
      "metadata": {
        "id": "f5xdDI76btCB"
      },
      "source": [
        "#исключаем значения с нулевой ценой\n",
        "df = df[df[\"UnitPrice\"] != 0]"
      ],
      "execution_count": null,
      "outputs": []
    },
    {
      "cell_type": "code",
      "metadata": {
        "colab": {
          "base_uri": "https://localhost:8080/"
        },
        "id": "Kx_Nyn3DcENB",
        "outputId": "f50e3077-de56-42c9-f6aa-23865b643b97"
      },
      "source": [
        "#смотрим результат\n",
        "df.isnull().sum()"
      ],
      "execution_count": null,
      "outputs": [
        {
          "output_type": "execute_result",
          "data": {
            "text/plain": [
              "InvoiceNo           0\n",
              "StockCode           0\n",
              "Description         0\n",
              "Quantity            0\n",
              "InvoiceDate         0\n",
              "UnitPrice           0\n",
              "CustomerID     132605\n",
              "Country             0\n",
              "dtype: int64"
            ]
          },
          "metadata": {
            "tags": []
          },
          "execution_count": 13
        }
      ]
    },
    {
      "cell_type": "markdown",
      "metadata": {
        "id": "ZWr8jmMzNaNf"
      },
      "source": [
        "###Незаполненные значения в CustomerID"
      ]
    },
    {
      "cell_type": "code",
      "metadata": {
        "colab": {
          "base_uri": "https://localhost:8080/"
        },
        "id": "fhBSkikDGhxf",
        "outputId": "3877d80c-3875-4399-d674-910299fd5613"
      },
      "source": [
        "# посчитаем, сколько пропусков \n",
        "df[df['CustomerID'].isnull()].shape"
      ],
      "execution_count": null,
      "outputs": [
        {
          "output_type": "execute_result",
          "data": {
            "text/plain": [
              "(132605, 8)"
            ]
          },
          "metadata": {
            "tags": []
          },
          "execution_count": 14
        }
      ]
    },
    {
      "cell_type": "code",
      "metadata": {
        "colab": {
          "base_uri": "https://localhost:8080/"
        },
        "id": "qaf5Qh8ij_e-",
        "outputId": "a146db48-f1e1-4209-f3a6-34542b50bdd8"
      },
      "source": [
        "# посчитаем, какой процент пропусков\n",
        "df.isnull().mean() * 100"
      ],
      "execution_count": null,
      "outputs": [
        {
          "output_type": "execute_result",
          "data": {
            "text/plain": [
              "InvoiceNo       0.00000\n",
              "StockCode       0.00000\n",
              "Description     0.00000\n",
              "Quantity        0.00000\n",
              "InvoiceDate     0.00000\n",
              "UnitPrice       0.00000\n",
              "CustomerID     24.58407\n",
              "Country         0.00000\n",
              "dtype: float64"
            ]
          },
          "metadata": {
            "tags": []
          },
          "execution_count": 15
        }
      ]
    },
    {
      "cell_type": "code",
      "metadata": {
        "colab": {
          "base_uri": "https://localhost:8080/",
          "height": 417
        },
        "id": "RG0tPDh5Nrvb",
        "outputId": "9a6b7a0e-cc66-48d3-cb7b-62fe7bbc591e"
      },
      "source": [
        "df[df['CustomerID'].isnull()]"
      ],
      "execution_count": null,
      "outputs": [
        {
          "output_type": "execute_result",
          "data": {
            "text/html": [
              "<div>\n",
              "<style scoped>\n",
              "    .dataframe tbody tr th:only-of-type {\n",
              "        vertical-align: middle;\n",
              "    }\n",
              "\n",
              "    .dataframe tbody tr th {\n",
              "        vertical-align: top;\n",
              "    }\n",
              "\n",
              "    .dataframe thead th {\n",
              "        text-align: right;\n",
              "    }\n",
              "</style>\n",
              "<table border=\"1\" class=\"dataframe\">\n",
              "  <thead>\n",
              "    <tr style=\"text-align: right;\">\n",
              "      <th></th>\n",
              "      <th>InvoiceNo</th>\n",
              "      <th>StockCode</th>\n",
              "      <th>Description</th>\n",
              "      <th>Quantity</th>\n",
              "      <th>InvoiceDate</th>\n",
              "      <th>UnitPrice</th>\n",
              "      <th>CustomerID</th>\n",
              "      <th>Country</th>\n",
              "    </tr>\n",
              "  </thead>\n",
              "  <tbody>\n",
              "    <tr>\n",
              "      <th>1443</th>\n",
              "      <td>536544</td>\n",
              "      <td>21773</td>\n",
              "      <td>DECORATIVE ROSE BATHROOM BOTTLE</td>\n",
              "      <td>1</td>\n",
              "      <td>12/1/2010 14:32</td>\n",
              "      <td>2.51</td>\n",
              "      <td>NaN</td>\n",
              "      <td>United Kingdom</td>\n",
              "    </tr>\n",
              "    <tr>\n",
              "      <th>1444</th>\n",
              "      <td>536544</td>\n",
              "      <td>21774</td>\n",
              "      <td>DECORATIVE CATS BATHROOM BOTTLE</td>\n",
              "      <td>2</td>\n",
              "      <td>12/1/2010 14:32</td>\n",
              "      <td>2.51</td>\n",
              "      <td>NaN</td>\n",
              "      <td>United Kingdom</td>\n",
              "    </tr>\n",
              "    <tr>\n",
              "      <th>1445</th>\n",
              "      <td>536544</td>\n",
              "      <td>21786</td>\n",
              "      <td>POLKADOT RAIN HAT</td>\n",
              "      <td>4</td>\n",
              "      <td>12/1/2010 14:32</td>\n",
              "      <td>0.85</td>\n",
              "      <td>NaN</td>\n",
              "      <td>United Kingdom</td>\n",
              "    </tr>\n",
              "    <tr>\n",
              "      <th>1446</th>\n",
              "      <td>536544</td>\n",
              "      <td>21787</td>\n",
              "      <td>RAIN PONCHO RETROSPOT</td>\n",
              "      <td>2</td>\n",
              "      <td>12/1/2010 14:32</td>\n",
              "      <td>1.66</td>\n",
              "      <td>NaN</td>\n",
              "      <td>United Kingdom</td>\n",
              "    </tr>\n",
              "    <tr>\n",
              "      <th>1447</th>\n",
              "      <td>536544</td>\n",
              "      <td>21790</td>\n",
              "      <td>VINTAGE SNAP CARDS</td>\n",
              "      <td>9</td>\n",
              "      <td>12/1/2010 14:32</td>\n",
              "      <td>1.66</td>\n",
              "      <td>NaN</td>\n",
              "      <td>United Kingdom</td>\n",
              "    </tr>\n",
              "    <tr>\n",
              "      <th>...</th>\n",
              "      <td>...</td>\n",
              "      <td>...</td>\n",
              "      <td>...</td>\n",
              "      <td>...</td>\n",
              "      <td>...</td>\n",
              "      <td>...</td>\n",
              "      <td>...</td>\n",
              "      <td>...</td>\n",
              "    </tr>\n",
              "    <tr>\n",
              "      <th>541536</th>\n",
              "      <td>581498</td>\n",
              "      <td>85099B</td>\n",
              "      <td>JUMBO BAG RED RETROSPOT</td>\n",
              "      <td>5</td>\n",
              "      <td>12/9/2011 10:26</td>\n",
              "      <td>4.13</td>\n",
              "      <td>NaN</td>\n",
              "      <td>United Kingdom</td>\n",
              "    </tr>\n",
              "    <tr>\n",
              "      <th>541537</th>\n",
              "      <td>581498</td>\n",
              "      <td>85099C</td>\n",
              "      <td>JUMBO  BAG BAROQUE BLACK WHITE</td>\n",
              "      <td>4</td>\n",
              "      <td>12/9/2011 10:26</td>\n",
              "      <td>4.13</td>\n",
              "      <td>NaN</td>\n",
              "      <td>United Kingdom</td>\n",
              "    </tr>\n",
              "    <tr>\n",
              "      <th>541538</th>\n",
              "      <td>581498</td>\n",
              "      <td>85150</td>\n",
              "      <td>LADIES &amp; GENTLEMEN METAL SIGN</td>\n",
              "      <td>1</td>\n",
              "      <td>12/9/2011 10:26</td>\n",
              "      <td>4.96</td>\n",
              "      <td>NaN</td>\n",
              "      <td>United Kingdom</td>\n",
              "    </tr>\n",
              "    <tr>\n",
              "      <th>541539</th>\n",
              "      <td>581498</td>\n",
              "      <td>85174</td>\n",
              "      <td>S/4 CACTI CANDLES</td>\n",
              "      <td>1</td>\n",
              "      <td>12/9/2011 10:26</td>\n",
              "      <td>10.79</td>\n",
              "      <td>NaN</td>\n",
              "      <td>United Kingdom</td>\n",
              "    </tr>\n",
              "    <tr>\n",
              "      <th>541540</th>\n",
              "      <td>581498</td>\n",
              "      <td>DOT</td>\n",
              "      <td>DOTCOM POSTAGE</td>\n",
              "      <td>1</td>\n",
              "      <td>12/9/2011 10:26</td>\n",
              "      <td>1714.17</td>\n",
              "      <td>NaN</td>\n",
              "      <td>United Kingdom</td>\n",
              "    </tr>\n",
              "  </tbody>\n",
              "</table>\n",
              "<p>132605 rows × 8 columns</p>\n",
              "</div>"
            ],
            "text/plain": [
              "       InvoiceNo StockCode  ... CustomerID         Country\n",
              "1443      536544     21773  ...        NaN  United Kingdom\n",
              "1444      536544     21774  ...        NaN  United Kingdom\n",
              "1445      536544     21786  ...        NaN  United Kingdom\n",
              "1446      536544     21787  ...        NaN  United Kingdom\n",
              "1447      536544     21790  ...        NaN  United Kingdom\n",
              "...          ...       ...  ...        ...             ...\n",
              "541536    581498    85099B  ...        NaN  United Kingdom\n",
              "541537    581498    85099C  ...        NaN  United Kingdom\n",
              "541538    581498     85150  ...        NaN  United Kingdom\n",
              "541539    581498     85174  ...        NaN  United Kingdom\n",
              "541540    581498       DOT  ...        NaN  United Kingdom\n",
              "\n",
              "[132605 rows x 8 columns]"
            ]
          },
          "metadata": {
            "tags": []
          },
          "execution_count": 16
        }
      ]
    },
    {
      "cell_type": "code",
      "metadata": {
        "id": "jQORg-ZbKyRb"
      },
      "source": [
        "# оставляем данные только с заполненным id пользователя  \n",
        "df = df[df['CustomerID'].notnull()]"
      ],
      "execution_count": null,
      "outputs": []
    },
    {
      "cell_type": "code",
      "metadata": {
        "colab": {
          "base_uri": "https://localhost:8080/"
        },
        "id": "Qa5BvgN8MW0J",
        "outputId": "fa2cc706-6bf2-474f-86e4-cf6c6bc5620c"
      },
      "source": [
        "# проверим, остались ли пропуски\n",
        "df.isnull().sum()"
      ],
      "execution_count": null,
      "outputs": [
        {
          "output_type": "execute_result",
          "data": {
            "text/plain": [
              "InvoiceNo      0\n",
              "StockCode      0\n",
              "Description    0\n",
              "Quantity       0\n",
              "InvoiceDate    0\n",
              "UnitPrice      0\n",
              "CustomerID     0\n",
              "Country        0\n",
              "dtype: int64"
            ]
          },
          "metadata": {
            "tags": []
          },
          "execution_count": 18
        }
      ]
    },
    {
      "cell_type": "markdown",
      "metadata": {
        "id": "e4C3oKtpMq88"
      },
      "source": [
        "###Избавимся от дубликатов в данных"
      ]
    },
    {
      "cell_type": "code",
      "metadata": {
        "colab": {
          "base_uri": "https://localhost:8080/"
        },
        "id": "uUW4IWUrMvJb",
        "outputId": "e0d01348-12c8-48e7-dca3-40f6093eda5c"
      },
      "source": [
        "# посмотрим, сколько у нас повторов\n",
        "df.duplicated().sum()"
      ],
      "execution_count": null,
      "outputs": [
        {
          "output_type": "execute_result",
          "data": {
            "text/plain": [
              "5225"
            ]
          },
          "metadata": {
            "tags": []
          },
          "execution_count": 19
        }
      ]
    },
    {
      "cell_type": "code",
      "metadata": {
        "colab": {
          "base_uri": "https://localhost:8080/"
        },
        "id": "HfuN4Xp7M_VM",
        "outputId": "32f39425-d253-4ffe-e649-39557ba9c6db"
      },
      "source": [
        "# сколько всего строк?\n",
        "df.shape"
      ],
      "execution_count": null,
      "outputs": [
        {
          "output_type": "execute_result",
          "data": {
            "text/plain": [
              "(406789, 8)"
            ]
          },
          "metadata": {
            "tags": []
          },
          "execution_count": 20
        }
      ]
    },
    {
      "cell_type": "code",
      "metadata": {
        "id": "EZuLJdHSM1wJ"
      },
      "source": [
        "# удалим повторы\n",
        "df.drop_duplicates(inplace=True)\n"
      ],
      "execution_count": null,
      "outputs": []
    },
    {
      "cell_type": "code",
      "metadata": {
        "colab": {
          "base_uri": "https://localhost:8080/"
        },
        "id": "9mlA_LgwIdM2",
        "outputId": "b8574514-5bbe-462b-e735-4c1d71dd28d2"
      },
      "source": [
        "df.shape"
      ],
      "execution_count": null,
      "outputs": [
        {
          "output_type": "execute_result",
          "data": {
            "text/plain": [
              "(401564, 8)"
            ]
          },
          "metadata": {
            "tags": []
          },
          "execution_count": 22
        }
      ]
    },
    {
      "cell_type": "markdown",
      "metadata": {
        "id": "iEcicXg39_hm"
      },
      "source": [
        "###Отрицательное количество"
      ]
    },
    {
      "cell_type": "code",
      "metadata": {
        "colab": {
          "base_uri": "https://localhost:8080/"
        },
        "id": "dn1O_LSJ_49M",
        "outputId": "c8616dc2-335c-4b6f-8081-1cdd2066fcd2"
      },
      "source": [
        "#посчитаем сколько строк содержит отрицательное количество товара\n",
        "df[df['Quantity'] < 0].shape"
      ],
      "execution_count": null,
      "outputs": [
        {
          "output_type": "execute_result",
          "data": {
            "text/plain": [
              "(8872, 8)"
            ]
          },
          "metadata": {
            "tags": []
          },
          "execution_count": 23
        }
      ]
    },
    {
      "cell_type": "code",
      "metadata": {
        "colab": {
          "base_uri": "https://localhost:8080/",
          "height": 203
        },
        "id": "To_oIcnP-ED-",
        "outputId": "d440ede5-5012-4843-ab58-51ea37de644b"
      },
      "source": [
        "df[df['Quantity'] < 0].sort_values(by='Quantity').head()"
      ],
      "execution_count": null,
      "outputs": [
        {
          "output_type": "execute_result",
          "data": {
            "text/html": [
              "<div>\n",
              "<style scoped>\n",
              "    .dataframe tbody tr th:only-of-type {\n",
              "        vertical-align: middle;\n",
              "    }\n",
              "\n",
              "    .dataframe tbody tr th {\n",
              "        vertical-align: top;\n",
              "    }\n",
              "\n",
              "    .dataframe thead th {\n",
              "        text-align: right;\n",
              "    }\n",
              "</style>\n",
              "<table border=\"1\" class=\"dataframe\">\n",
              "  <thead>\n",
              "    <tr style=\"text-align: right;\">\n",
              "      <th></th>\n",
              "      <th>InvoiceNo</th>\n",
              "      <th>StockCode</th>\n",
              "      <th>Description</th>\n",
              "      <th>Quantity</th>\n",
              "      <th>InvoiceDate</th>\n",
              "      <th>UnitPrice</th>\n",
              "      <th>CustomerID</th>\n",
              "      <th>Country</th>\n",
              "    </tr>\n",
              "  </thead>\n",
              "  <tbody>\n",
              "    <tr>\n",
              "      <th>540422</th>\n",
              "      <td>C581484</td>\n",
              "      <td>23843</td>\n",
              "      <td>PAPER CRAFT , LITTLE BIRDIE</td>\n",
              "      <td>-80995</td>\n",
              "      <td>12/9/2011 9:27</td>\n",
              "      <td>2.08</td>\n",
              "      <td>16446.0</td>\n",
              "      <td>United Kingdom</td>\n",
              "    </tr>\n",
              "    <tr>\n",
              "      <th>61624</th>\n",
              "      <td>C541433</td>\n",
              "      <td>23166</td>\n",
              "      <td>MEDIUM CERAMIC TOP STORAGE JAR</td>\n",
              "      <td>-74215</td>\n",
              "      <td>1/18/2011 10:17</td>\n",
              "      <td>1.04</td>\n",
              "      <td>12346.0</td>\n",
              "      <td>United Kingdom</td>\n",
              "    </tr>\n",
              "    <tr>\n",
              "      <th>4287</th>\n",
              "      <td>C536757</td>\n",
              "      <td>84347</td>\n",
              "      <td>ROTATING SILVER ANGELS T-LIGHT HLDR</td>\n",
              "      <td>-9360</td>\n",
              "      <td>12/2/2010 14:23</td>\n",
              "      <td>0.03</td>\n",
              "      <td>15838.0</td>\n",
              "      <td>United Kingdom</td>\n",
              "    </tr>\n",
              "    <tr>\n",
              "      <th>160145</th>\n",
              "      <td>C550456</td>\n",
              "      <td>21108</td>\n",
              "      <td>FAIRY CAKE FLANNEL ASSORTED COLOUR</td>\n",
              "      <td>-3114</td>\n",
              "      <td>4/18/2011 13:08</td>\n",
              "      <td>2.10</td>\n",
              "      <td>15749.0</td>\n",
              "      <td>United Kingdom</td>\n",
              "    </tr>\n",
              "    <tr>\n",
              "      <th>160144</th>\n",
              "      <td>C550456</td>\n",
              "      <td>21175</td>\n",
              "      <td>GIN + TONIC DIET METAL SIGN</td>\n",
              "      <td>-2000</td>\n",
              "      <td>4/18/2011 13:08</td>\n",
              "      <td>1.85</td>\n",
              "      <td>15749.0</td>\n",
              "      <td>United Kingdom</td>\n",
              "    </tr>\n",
              "  </tbody>\n",
              "</table>\n",
              "</div>"
            ],
            "text/plain": [
              "       InvoiceNo StockCode  ... CustomerID         Country\n",
              "540422   C581484     23843  ...    16446.0  United Kingdom\n",
              "61624    C541433     23166  ...    12346.0  United Kingdom\n",
              "4287     C536757     84347  ...    15838.0  United Kingdom\n",
              "160145   C550456     21108  ...    15749.0  United Kingdom\n",
              "160144   C550456     21175  ...    15749.0  United Kingdom\n",
              "\n",
              "[5 rows x 8 columns]"
            ]
          },
          "metadata": {
            "tags": []
          },
          "execution_count": 24
        }
      ]
    },
    {
      "cell_type": "code",
      "metadata": {
        "colab": {
          "base_uri": "https://localhost:8080/"
        },
        "id": "neL4PezcALPL",
        "outputId": "fc1ac89f-ac37-4d01-9939-c27349d03a7c"
      },
      "source": [
        "#посчитаем сколько InvoiceNo с пометкой С (кредитный)\n",
        "df[df[\"InvoiceNo\"].str.startswith(\"C\")].shape"
      ],
      "execution_count": null,
      "outputs": [
        {
          "output_type": "execute_result",
          "data": {
            "text/plain": [
              "(8872, 8)"
            ]
          },
          "metadata": {
            "tags": []
          },
          "execution_count": 25
        }
      ]
    },
    {
      "cell_type": "markdown",
      "metadata": {
        "id": "0nVJGwnsI8Ov"
      },
      "source": [
        "Скорее всего таким образом в системе отмечались возвраты или отмненные заказы. Поскольку акцент в исследовании на базе клиентов и их покупках, можно удалить отмененные заказы."
      ]
    },
    {
      "cell_type": "code",
      "metadata": {
        "id": "8YS2DybsNzlQ"
      },
      "source": [
        "#удаляем отменнные заказы\n",
        "df = df[df['Quantity'] > 0]"
      ],
      "execution_count": null,
      "outputs": []
    },
    {
      "cell_type": "code",
      "metadata": {
        "colab": {
          "base_uri": "https://localhost:8080/"
        },
        "id": "z4eqONqyOU_1",
        "outputId": "b20ce500-a404-4533-e9d7-7f551f2cc0a3"
      },
      "source": [
        "df[df['Quantity'] < 0].shape"
      ],
      "execution_count": null,
      "outputs": [
        {
          "output_type": "execute_result",
          "data": {
            "text/plain": [
              "(0, 8)"
            ]
          },
          "metadata": {
            "tags": []
          },
          "execution_count": 27
        }
      ]
    },
    {
      "cell_type": "markdown",
      "metadata": {
        "id": "nuxZzXXVNrfY"
      },
      "source": [
        "###Поправим типы данных"
      ]
    },
    {
      "cell_type": "code",
      "metadata": {
        "colab": {
          "base_uri": "https://localhost:8080/"
        },
        "id": "TIH0IZZBNuBS",
        "outputId": "e4827f09-ec07-43bc-c982-4c1f045877f5"
      },
      "source": [
        "df.info()"
      ],
      "execution_count": null,
      "outputs": [
        {
          "output_type": "stream",
          "text": [
            "<class 'pandas.core.frame.DataFrame'>\n",
            "Int64Index: 392692 entries, 0 to 541908\n",
            "Data columns (total 8 columns):\n",
            " #   Column       Non-Null Count   Dtype  \n",
            "---  ------       --------------   -----  \n",
            " 0   InvoiceNo    392692 non-null  object \n",
            " 1   StockCode    392692 non-null  object \n",
            " 2   Description  392692 non-null  object \n",
            " 3   Quantity     392692 non-null  int64  \n",
            " 4   InvoiceDate  392692 non-null  object \n",
            " 5   UnitPrice    392692 non-null  float64\n",
            " 6   CustomerID   392692 non-null  float64\n",
            " 7   Country      392692 non-null  object \n",
            "dtypes: float64(2), int64(1), object(5)\n",
            "memory usage: 27.0+ MB\n"
          ],
          "name": "stdout"
        }
      ]
    },
    {
      "cell_type": "code",
      "metadata": {
        "id": "WG5bOKNmJ0yC"
      },
      "source": [
        "df['CustomerID'] = df['CustomerID'].astype('int64')"
      ],
      "execution_count": null,
      "outputs": []
    },
    {
      "cell_type": "code",
      "metadata": {
        "id": "D2H3pCPEPvue"
      },
      "source": [
        "df['InvoiceDate'] = pd.to_datetime(df['InvoiceDate'])"
      ],
      "execution_count": null,
      "outputs": []
    },
    {
      "cell_type": "code",
      "metadata": {
        "colab": {
          "base_uri": "https://localhost:8080/"
        },
        "id": "0XdTKw4UP1Hz",
        "outputId": "c63e64b3-a447-4c59-d1f4-6d14ea15a156"
      },
      "source": [
        "df.info()"
      ],
      "execution_count": null,
      "outputs": [
        {
          "output_type": "stream",
          "text": [
            "<class 'pandas.core.frame.DataFrame'>\n",
            "Int64Index: 392692 entries, 0 to 541908\n",
            "Data columns (total 8 columns):\n",
            " #   Column       Non-Null Count   Dtype         \n",
            "---  ------       --------------   -----         \n",
            " 0   InvoiceNo    392692 non-null  object        \n",
            " 1   StockCode    392692 non-null  object        \n",
            " 2   Description  392692 non-null  object        \n",
            " 3   Quantity     392692 non-null  int64         \n",
            " 4   InvoiceDate  392692 non-null  datetime64[ns]\n",
            " 5   UnitPrice    392692 non-null  float64       \n",
            " 6   CustomerID   392692 non-null  int64         \n",
            " 7   Country      392692 non-null  object        \n",
            "dtypes: datetime64[ns](1), float64(1), int64(2), object(4)\n",
            "memory usage: 27.0+ MB\n"
          ],
          "name": "stdout"
        }
      ]
    },
    {
      "cell_type": "markdown",
      "metadata": {
        "id": "MWowgrvXozlc"
      },
      "source": [
        "###Выбросы"
      ]
    },
    {
      "cell_type": "code",
      "metadata": {
        "colab": {
          "base_uri": "https://localhost:8080/",
          "height": 296
        },
        "id": "gAO4CKTqp8hA",
        "outputId": "6d23b8b1-669d-4980-c134-1bcd866fe6ee"
      },
      "source": [
        "sns.boxplot(x=df['UnitPrice'])"
      ],
      "execution_count": null,
      "outputs": [
        {
          "output_type": "execute_result",
          "data": {
            "text/plain": [
              "<matplotlib.axes._subplots.AxesSubplot at 0x7f80cd152d10>"
            ]
          },
          "metadata": {
            "tags": []
          },
          "execution_count": 38
        },
        {
          "output_type": "display_data",
          "data": {
            "image/png": "[encoded data removed]",
            "text/plain": [
              "<Figure size 432x288 with 1 Axes>"
            ]
          },
          "metadata": {
            "tags": [],
            "needs_background": "light"
          }
        }
      ]
    },
    {
      "cell_type": "code",
      "metadata": {
        "colab": {
          "base_uri": "https://localhost:8080/",
          "height": 296
        },
        "id": "V_f15s5Ioyj-",
        "outputId": "0819fac6-d182-48e2-e094-667f7d3d4bdb"
      },
      "source": [
        "sns.boxplot(x=df['Quantity'])"
      ],
      "execution_count": null,
      "outputs": [
        {
          "output_type": "execute_result",
          "data": {
            "text/plain": [
              "<matplotlib.axes._subplots.AxesSubplot at 0x7f80cd9131d0>"
            ]
          },
          "metadata": {
            "tags": []
          },
          "execution_count": 39
        },
        {
          "output_type": "display_data",
          "data": {
            "image/png": "[encoded data removed]",
            "text/plain": [
              "<Figure size 432x288 with 1 Axes>"
            ]
          },
          "metadata": {
            "tags": [],
            "needs_background": "light"
          }
        }
      ]
    },
    {
      "cell_type": "markdown",
      "metadata": {
        "id": "cXjtaH0lSIR_"
      },
      "source": [
        "##Поизучаем статистику в разрезе стран"
      ]
    },
    {
      "cell_type": "code",
      "metadata": {
        "id": "C1eNuTNySPqT"
      },
      "source": [
        "# считаем сколько транзакций было по странам при помощи value_counts\n",
        "df['Country'].value_counts()"
      ],
      "execution_count": null,
      "outputs": []
    },
    {
      "cell_type": "code",
      "metadata": {
        "id": "p64A3g69Skws"
      },
      "source": [
        "# считаем сколько уникальных пользователей в странах\n",
        "# вычисляя затем агрегированные показатели в каждой группе.\n",
        "countries = df.groupby('Country')['CustomerID'].nunique().sort_values(ascending=False)\n",
        "countries"
      ],
      "execution_count": null,
      "outputs": []
    },
    {
      "cell_type": "markdown",
      "metadata": {
        "id": "TwJapuAdTgmq"
      },
      "source": [
        "##Поизучаем показатели выручки"
      ]
    },
    {
      "cell_type": "code",
      "metadata": {
        "id": "w0XEjJQGTjo5"
      },
      "source": [
        "# создадим новый столбец\n",
        "df['Revenue'] = df['Quantity'] * df['UnitPrice']\n",
        "# добавим месяц покупки в новый столбец при помощи dt.strftime('%Y - %m')\n",
        "df['InvoiceMonth'] = df['InvoiceDate'].dt.strftime('%Y-%m') \n",
        "df.head() "
      ],
      "execution_count": null,
      "outputs": []
    },
    {
      "cell_type": "code",
      "metadata": {
        "id": "iTge3ksYTzbr"
      },
      "source": [
        "# выручка по месяцам\n",
        "df.groupby('InvoiceMonth')['Revenue'].sum().plot(kind='bar')\n",
        "plt.title('Выручка по месяцам')\n",
        "plt.xlabel('Месяц')\n",
        "plt.ylabel('Доход')"
      ],
      "execution_count": null,
      "outputs": []
    },
    {
      "cell_type": "code",
      "metadata": {
        "id": "WKGhTAOCT2Hm"
      },
      "source": [
        "# уникальные покупатели по месяцам\n",
        "df.groupby('InvoiceMonth')['CustomerID'].nunique().plot(kind='bar')\n",
        "plt.title('Распределение покупателей по месяца')\n",
        "plt.xlabel('Месяц')\n",
        "plt.ylabel('Количество покупателей')"
      ],
      "execution_count": null,
      "outputs": []
    },
    {
      "cell_type": "markdown",
      "metadata": {
        "id": "OvR8DkhXUcbQ"
      },
      "source": [
        "##Изучим статистику в разрезе клиентов"
      ]
    },
    {
      "cell_type": "code",
      "metadata": {
        "id": "yVTsYkWqUXfO"
      },
      "source": [
        "# изучим сводную статистику по покупателям из произвольной страны (суммарная и средняя выручка)\n",
        "products = df[df.Country=='United Kingdom'].groupby(['CustomerID', 'InvoiceNo'], as_index=False)['Revenue'].sum()\n",
        "products = products.groupby(by='CustomerID').agg({'InvoiceNo': ['count'], 'Revenue': ['sum','mean']})\n",
        "products"
      ],
      "execution_count": null,
      "outputs": []
    },
    {
      "cell_type": "markdown",
      "metadata": {
        "id": "yL04gSt8V4MN"
      },
      "source": [
        "###Топ-5 лояльных покупателей"
      ]
    },
    {
      "cell_type": "code",
      "metadata": {
        "id": "7KWWoI_6V6_p"
      },
      "source": [
        "df_pokupateli = df.copy()\n",
        "# посчитаем количество транзакций в разрезе покупателей\n",
        "df_pokupateli = df_pokupateli.groupby('CustomerID')['InvoiceNo'].nunique()\n",
        "# отсортируем данные\n",
        "df_pokupateli.sort_values(ascending=False, inplace=True)\n",
        "df_pokupateli.head(5)"
      ],
      "execution_count": null,
      "outputs": []
    },
    {
      "cell_type": "markdown",
      "metadata": {
        "id": "eSHkyrZ0WN42"
      },
      "source": [
        "##Сегменты товаров по стоимости"
      ]
    },
    {
      "cell_type": "code",
      "metadata": {
        "id": "eUUIBF7MWQRr"
      },
      "source": [
        "# напишем функцию для сегментации товаров\n",
        "def price_segment(row):\n",
        "    if row < 5:\n",
        "        return 'cheap' \n",
        "    if row >= 5 and row < 100:\n",
        "        return 'middle'\n",
        "    if row >= 100:\n",
        "        return 'expensive'\n",
        " \n",
        "\n",
        "df['PriceSegment'] = df[df.Quantity > 0]['UnitPrice'].apply(price_segment)\n",
        "# df.groupby('PriceSegment')['StockCode'].nunique()\n",
        "df.groupby('PriceSegment')['StockCode'].count()"
      ],
      "execution_count": null,
      "outputs": []
    }
  ]
}